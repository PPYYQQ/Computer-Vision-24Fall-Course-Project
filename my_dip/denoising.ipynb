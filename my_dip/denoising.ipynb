{
 "cells": [
  {
   "cell_type": "markdown",
   "metadata": {},
   "source": [
    "# Import libs"
   ]
  },
  {
   "cell_type": "code",
   "execution_count": 9,
   "metadata": {},
   "outputs": [
    {
     "name": "stdout",
     "output_type": "stream",
     "text": [
      "/home/yongqian/CV/CV-24Fall-Course-Project/my_dip/utils.py\n"
     ]
    },
    {
     "ename": "ImportError",
     "evalue": "cannot import name 'get_noisy_image' from 'utils' (/home/yongqian/CV/CV-24Fall-Course-Project/my_dip/utils.py)",
     "output_type": "error",
     "traceback": [
      "\u001b[0;31m---------------------------------------------------------------------------\u001b[0m",
      "\u001b[0;31mImportError\u001b[0m                               Traceback (most recent call last)",
      "Cell \u001b[0;32mIn[9], line 11\u001b[0m\n\u001b[1;32m      9\u001b[0m \u001b[39mimport\u001b[39;00m \u001b[39mutils\u001b[39;00m\n\u001b[1;32m     10\u001b[0m \u001b[39mprint\u001b[39m(utils\u001b[39m.\u001b[39m\u001b[39m__file__\u001b[39m)\n\u001b[0;32m---> 11\u001b[0m \u001b[39mfrom\u001b[39;00m \u001b[39mutils\u001b[39;00m \u001b[39mimport\u001b[39;00m get_noisy_image\n\u001b[1;32m     12\u001b[0m \u001b[39mfrom\u001b[39;00m \u001b[39mutils\u001b[39;00m \u001b[39mimport\u001b[39;00m get_image, get_noise, np_to_torch\n\u001b[1;32m     13\u001b[0m \u001b[39mfrom\u001b[39;00m \u001b[39mskip\u001b[39;00m \u001b[39mimport\u001b[39;00m skip\n",
      "\u001b[0;31mImportError\u001b[0m: cannot import name 'get_noisy_image' from 'utils' (/home/yongqian/CV/CV-24Fall-Course-Project/my_dip/utils.py)"
     ]
    }
   ],
   "source": [
    "\n",
    "import matplotlib.pyplot as plt\n",
    "import os\n",
    "import numpy as np\n",
    "# from models import *\n",
    "import torch\n",
    "import torch.optim\n",
    "from skimage.metrics import peak_signal_noise_ratio as compare_psnr\n",
    "# from utils.denoising_utils import *\n",
    "import utils\n",
    "print(utils.__file__)\n",
    "from utils import get_noisy_image\n",
    "from utils import get_image, get_noise, np_to_torch\n",
    "from skip import skip\n",
    "\n",
    "torch.backends.cudnn.enabled = True\n",
    "torch.backends.cudnn.benchmark =True\n",
    "dtype = torch.cuda.FloatTensor\n",
    "\n",
    "imsize =-1\n",
    "PLOT = True\n",
    "sigma = 25\n",
    "sigma_ = sigma/255."
   ]
  },
  {
   "cell_type": "code",
   "execution_count": 8,
   "metadata": {},
   "outputs": [],
   "source": [
    "# deJPEG \n",
    "# fname = 'data/denoising/snail.jpg'\n",
    "\n",
    "## denoising\n",
    "fname = 'data/denoising/F16_GT.png'"
   ]
  },
  {
   "cell_type": "markdown",
   "metadata": {},
   "source": [
    "# Load image"
   ]
  },
  {
   "cell_type": "code",
   "execution_count": 9,
   "metadata": {},
   "outputs": [],
   "source": [
    "img_pil, img_np = get_image(fname, imsize)\n",
    "\n",
    "if fname == 'data/denoising/snail.jpg':\n",
    "    img_noisy_pil, img_noisy_np  = img_pil, img_np \n",
    "        \n",
    "elif fname == 'data/denoising/F16_GT.png':\n",
    "    # Add synthetic noise\n",
    "    img_noisy_pil, img_noisy_np = get_noisy_image(img_np, sigma_)\n",
    "    \n",
    "else:\n",
    "    assert False"
   ]
  },
  {
   "cell_type": "markdown",
   "metadata": {},
   "source": [
    "# Setup"
   ]
  },
  {
   "cell_type": "code",
   "execution_count": 1,
   "metadata": {},
   "outputs": [
    {
     "ename": "NameError",
     "evalue": "name 'fname' is not defined",
     "output_type": "error",
     "traceback": [
      "\u001b[0;31m---------------------------------------------------------------------------\u001b[0m",
      "\u001b[0;31mNameError\u001b[0m                                 Traceback (most recent call last)",
      "Cell \u001b[0;32mIn[1], line 11\u001b[0m\n\u001b[1;32m      8\u001b[0m show_every \u001b[39m=\u001b[39m \u001b[39m100\u001b[39m\n\u001b[1;32m      9\u001b[0m exp_weight\u001b[39m=\u001b[39m\u001b[39m0.99\u001b[39m\n\u001b[0;32m---> 11\u001b[0m \u001b[39mif\u001b[39;00m fname \u001b[39m==\u001b[39m \u001b[39m'\u001b[39m\u001b[39mdata/denoising/snail.jpg\u001b[39m\u001b[39m'\u001b[39m:\n\u001b[1;32m     12\u001b[0m     num_iter \u001b[39m=\u001b[39m \u001b[39m2400\u001b[39m\n\u001b[1;32m     13\u001b[0m     input_depth \u001b[39m=\u001b[39m \u001b[39m3\u001b[39m\n",
      "\u001b[0;31mNameError\u001b[0m: name 'fname' is not defined"
     ]
    }
   ],
   "source": [
    "\n",
    "OPT_OVER = 'net'\n",
    "\n",
    "reg_noise_std = 1./30. # set to 1./20. for sigma=50\n",
    "LR = 0.01\n",
    "\n",
    "OPTIMIZER='adam' # 'LBFGS'\n",
    "show_every = 100\n",
    "exp_weight=0.99\n",
    "\n",
    "if fname == 'data/denoising/snail.jpg':\n",
    "    num_iter = 2400\n",
    "    input_depth = 3\n",
    "    figsize = 5 \n",
    "    \n",
    "    net = skip(\n",
    "                input_depth, 3, \n",
    "                num_channels_down = [8, 16, 32, 64, 128], \n",
    "                num_channels_up   = [8, 16, 32, 64, 128],\n",
    "                num_channels_skip = [0, 0, 0, 4, 4], \n",
    "                upsample_mode='bilinear', downsample_mode='stride',\n",
    "                need_sigmoid=True, need_bias=True, pad='reflection', act_fun='LeakyReLU')\n",
    "\n",
    "    net = net.type(dtype)\n",
    "\n",
    "elif fname == 'data/denoising/F16_GT.png':\n",
    "    num_iter = 3000\n",
    "    input_depth = 32 \n",
    "    figsize = 4 \n",
    "\n",
    "    net = skip(\n",
    "                input_depth, n_channels = 3, \n",
    "                num_channels_down = [128]*5,\n",
    "                num_channels_up =   [128]*5,\n",
    "                num_channels_skip = [128]*5, \n",
    "                upsample_mode='bilinear', downsample_mode='stride',\n",
    "                need_sigmoid=True, need_bias=True, pad='reflection', act_fun='LeakyReLU')\n",
    "else:\n",
    "    assert False\n",
    "    \n",
    "net_input = get_noise(input_depth, 'noise', (img_pil.size[1], img_pil.size[0])).type(dtype).detach()\n",
    "\n",
    "# Compute number of parameters\n",
    "s  = sum([np.prod(list(p.size())) for p in net.parameters()]); \n",
    "print ('Number of params: %d' % s)\n",
    "\n",
    "# Loss\n",
    "mse = torch.nn.MSELoss().type(dtype)\n",
    "\n",
    "img_noisy_torch = np_to_torch(img_noisy_np).type(dtype)"
   ]
  },
  {
   "cell_type": "markdown",
   "metadata": {},
   "source": [
    "# Optimize"
   ]
  },
  {
   "cell_type": "code",
   "execution_count": 11,
   "metadata": {},
   "outputs": [
    {
     "name": "stdout",
     "output_type": "stream",
     "text": [
      "Starting optimization with ADAM\n"
     ]
    },
    {
     "name": "stderr",
     "output_type": "stream",
     "text": [
      "  2%|▏         | 58/3000 [00:04<03:53, 12.57it/s] \n"
     ]
    },
    {
     "ename": "KeyboardInterrupt",
     "evalue": "",
     "output_type": "error",
     "traceback": [
      "\u001b[0;31m---------------------------------------------------------------------------\u001b[0m",
      "\u001b[0;31mKeyboardInterrupt\u001b[0m                         Traceback (most recent call last)",
      "Cell \u001b[0;32mIn[11], line 72\u001b[0m\n\u001b[1;32m     69\u001b[0m     \u001b[39mreturn\u001b[39;00m total_loss\n\u001b[1;32m     71\u001b[0m p \u001b[39m=\u001b[39m get_params(OPT_OVER, net, net_input)\n\u001b[0;32m---> 72\u001b[0m optimize(OPTIMIZER, p, closure, LR, num_iter)\n",
      "File \u001b[0;32m~/CV/CV-24Fall-Course-Project/deep-image-prior/utils/common_utils.py:233\u001b[0m, in \u001b[0;36moptimize\u001b[0;34m(optimizer_type, parameters, closure, LR, num_iter)\u001b[0m\n\u001b[1;32m    231\u001b[0m     \u001b[39mfor\u001b[39;00m j \u001b[39min\u001b[39;00m tqdm(\u001b[39mrange\u001b[39m(num_iter)):\n\u001b[1;32m    232\u001b[0m         optimizer\u001b[39m.\u001b[39mzero_grad()\n\u001b[0;32m--> 233\u001b[0m         closure()\n\u001b[1;32m    234\u001b[0m         optimizer\u001b[39m.\u001b[39mstep()\n\u001b[1;32m    235\u001b[0m \u001b[39melse\u001b[39;00m:\n",
      "Cell \u001b[0;32mIn[11], line 39\u001b[0m, in \u001b[0;36mclosure\u001b[0;34m()\u001b[0m\n\u001b[1;32m     37\u001b[0m psrn_noisy \u001b[39m=\u001b[39m compare_psnr(img_noisy_np, out\u001b[39m.\u001b[39mdetach()\u001b[39m.\u001b[39mcpu()\u001b[39m.\u001b[39mnumpy()[\u001b[39m0\u001b[39m]) \n\u001b[1;32m     38\u001b[0m psrn_gt    \u001b[39m=\u001b[39m compare_psnr(img_np, out\u001b[39m.\u001b[39mdetach()\u001b[39m.\u001b[39mcpu()\u001b[39m.\u001b[39mnumpy()[\u001b[39m0\u001b[39m]) \n\u001b[0;32m---> 39\u001b[0m psrn_gt_sm \u001b[39m=\u001b[39m compare_psnr(img_np, out_avg\u001b[39m.\u001b[39;49mdetach()\u001b[39m.\u001b[39;49mcpu()\u001b[39m.\u001b[39;49mnumpy()[\u001b[39m0\u001b[39;49m]) \n\u001b[1;32m     41\u001b[0m \u001b[39m# Note that we do not have GT for the \"snail\" example\u001b[39;00m\n\u001b[1;32m     42\u001b[0m \u001b[39m# So 'PSRN_gt', 'PSNR_gt_sm' make no sense\u001b[39;00m\n\u001b[1;32m     43\u001b[0m \u001b[39m# print ('Iteration %05d    Loss %f   PSNR_noisy: %f   PSRN_gt: %f PSNR_gt_sm: %f' % (i, total_loss.item(), psrn_noisy, psrn_gt, psrn_gt_sm), '\\r', end='')\u001b[39;00m\n\u001b[1;32m     44\u001b[0m log_message \u001b[39m=\u001b[39m (\u001b[39m'\u001b[39m\u001b[39mIteration \u001b[39m\u001b[39m%05d\u001b[39;00m\u001b[39m    Loss \u001b[39m\u001b[39m%f\u001b[39;00m\u001b[39m   PSNR_noisy: \u001b[39m\u001b[39m%f\u001b[39;00m\u001b[39m   PSRN_gt: \u001b[39m\u001b[39m%f\u001b[39;00m\u001b[39m PSNR_gt_sm: \u001b[39m\u001b[39m%f\u001b[39;00m\u001b[39m\\n\u001b[39;00m\u001b[39m'\u001b[39m \u001b[39m%\u001b[39m \n\u001b[1;32m     45\u001b[0m            (i, total_loss\u001b[39m.\u001b[39mitem(), psrn_noisy, psrn_gt, psrn_gt_sm))\n",
      "File \u001b[0;32m~/anaconda3/envs/flux/lib/python3.10/site-packages/skimage/metrics/simple_metrics.py:152\u001b[0m, in \u001b[0;36mpeak_signal_noise_ratio\u001b[0;34m(image_true, image_test, data_range)\u001b[0m\n\u001b[1;32m    147\u001b[0m     warn(\n\u001b[1;32m    148\u001b[0m         \u001b[39m\"\u001b[39m\u001b[39mInputs have mismatched dtype.  Setting data_range based on \u001b[39m\u001b[39m\"\u001b[39m\n\u001b[1;32m    149\u001b[0m         \u001b[39m\"\u001b[39m\u001b[39mimage_true.\u001b[39m\u001b[39m\"\u001b[39m\n\u001b[1;32m    150\u001b[0m     )\n\u001b[1;32m    151\u001b[0m dmin, dmax \u001b[39m=\u001b[39m dtype_range[image_true\u001b[39m.\u001b[39mdtype\u001b[39m.\u001b[39mtype]\n\u001b[0;32m--> 152\u001b[0m true_min, true_max \u001b[39m=\u001b[39m np\u001b[39m.\u001b[39;49mmin(image_true), np\u001b[39m.\u001b[39mmax(image_true)\n\u001b[1;32m    153\u001b[0m \u001b[39mif\u001b[39;00m true_max \u001b[39m>\u001b[39m dmax \u001b[39mor\u001b[39;00m true_min \u001b[39m<\u001b[39m dmin:\n\u001b[1;32m    154\u001b[0m     \u001b[39mraise\u001b[39;00m \u001b[39mValueError\u001b[39;00m(\n\u001b[1;32m    155\u001b[0m         \u001b[39m\"\u001b[39m\u001b[39mimage_true has intensity values outside the range expected \u001b[39m\u001b[39m\"\u001b[39m\n\u001b[1;32m    156\u001b[0m         \u001b[39m\"\u001b[39m\u001b[39mfor its data type. Please manually specify the data_range.\u001b[39m\u001b[39m\"\u001b[39m\n\u001b[1;32m    157\u001b[0m     )\n",
      "File \u001b[0;32m~/anaconda3/envs/flux/lib/python3.10/site-packages/numpy/_core/fromnumeric.py:3220\u001b[0m, in \u001b[0;36m_min_dispatcher\u001b[0;34m(a, axis, out, keepdims, initial, where)\u001b[0m\n\u001b[1;32m   3206\u001b[0m \u001b[39m    \u001b[39m\u001b[39m\"\"\"\u001b[39;00m\n\u001b[1;32m   3207\u001b[0m \u001b[39m    Return the maximum of an array or maximum along an axis.\u001b[39;00m\n\u001b[1;32m   3208\u001b[0m \n\u001b[0;32m   (...)\u001b[0m\n\u001b[1;32m   3214\u001b[0m \u001b[39m    ndarray.max : equivalent method\u001b[39;00m\n\u001b[1;32m   3215\u001b[0m \u001b[39m    \"\"\"\u001b[39;00m\n\u001b[1;32m   3216\u001b[0m     \u001b[39mreturn\u001b[39;00m _wrapreduction(a, np\u001b[39m.\u001b[39mmaximum, \u001b[39m'\u001b[39m\u001b[39mmax\u001b[39m\u001b[39m'\u001b[39m, axis, \u001b[39mNone\u001b[39;00m, out,\n\u001b[1;32m   3217\u001b[0m                           keepdims\u001b[39m=\u001b[39mkeepdims, initial\u001b[39m=\u001b[39minitial, where\u001b[39m=\u001b[39mwhere)\n\u001b[0;32m-> 3220\u001b[0m \u001b[39mdef\u001b[39;00m \u001b[39m_min_dispatcher\u001b[39m(a, axis\u001b[39m=\u001b[39m\u001b[39mNone\u001b[39;00m, out\u001b[39m=\u001b[39m\u001b[39mNone\u001b[39;00m, keepdims\u001b[39m=\u001b[39m\u001b[39mNone\u001b[39;00m, initial\u001b[39m=\u001b[39m\u001b[39mNone\u001b[39;00m,\n\u001b[1;32m   3221\u001b[0m                     where\u001b[39m=\u001b[39m\u001b[39mNone\u001b[39;00m):\n\u001b[1;32m   3222\u001b[0m     \u001b[39mreturn\u001b[39;00m (a, out)\n\u001b[1;32m   3225\u001b[0m \u001b[39m@array_function_dispatch\u001b[39m(_min_dispatcher)\n\u001b[1;32m   3226\u001b[0m \u001b[39mdef\u001b[39;00m \u001b[39mmin\u001b[39m(a, axis\u001b[39m=\u001b[39m\u001b[39mNone\u001b[39;00m, out\u001b[39m=\u001b[39m\u001b[39mNone\u001b[39;00m, keepdims\u001b[39m=\u001b[39mnp\u001b[39m.\u001b[39m_NoValue, initial\u001b[39m=\u001b[39mnp\u001b[39m.\u001b[39m_NoValue,\n\u001b[1;32m   3227\u001b[0m         where\u001b[39m=\u001b[39mnp\u001b[39m.\u001b[39m_NoValue):\n",
      "\u001b[0;31mKeyboardInterrupt\u001b[0m: "
     ]
    }
   ],
   "source": [
    "net_input_saved = net_input.detach().clone()\n",
    "noise = net_input.detach().clone()\n",
    "out_avg = None\n",
    "last_net = None\n",
    "psrn_noisy_last = 0\n",
    "\n",
    "i = 0\n",
    "\n",
    "\n",
    "log_dir = 'logs'\n",
    "if not os.path.exists(log_dir):\n",
    "    os.makedirs(log_dir)\n",
    "\n",
    "# 打开日志文件\n",
    "log_file_path = os.path.join(log_dir, 'denoise_training_log.txt')\n",
    "log_file = open(log_file_path, 'a')\n",
    "\n",
    "def closure():\n",
    "    \n",
    "    global i, out_avg, psrn_noisy_last, last_net, net_input\n",
    "    \n",
    "    if reg_noise_std > 0:\n",
    "        net_input = net_input_saved + (noise.normal_() * reg_noise_std)\n",
    "    \n",
    "    out = net(net_input)\n",
    "    \n",
    "    # Smoothing\n",
    "    if out_avg is None:\n",
    "        out_avg = out.detach()\n",
    "    else:\n",
    "        out_avg = out_avg * exp_weight + out.detach() * (1 - exp_weight)\n",
    "            \n",
    "    total_loss = mse(out, img_noisy_torch)\n",
    "    total_loss.backward()\n",
    "        \n",
    "    \n",
    "    psrn_noisy = compare_psnr(img_noisy_np, out.detach().cpu().numpy()[0]) \n",
    "    psrn_gt    = compare_psnr(img_np, out.detach().cpu().numpy()[0]) \n",
    "    psrn_gt_sm = compare_psnr(img_np, out_avg.detach().cpu().numpy()[0]) \n",
    "    \n",
    "    # Note that we do not have GT for the \"snail\" example\n",
    "    # So 'PSRN_gt', 'PSNR_gt_sm' make no sense\n",
    "    # print ('Iteration %05d    Loss %f   PSNR_noisy: %f   PSRN_gt: %f PSNR_gt_sm: %f' % (i, total_loss.item(), psrn_noisy, psrn_gt, psrn_gt_sm), '\\r', end='')\n",
    "    log_message = ('Iteration %05d    Loss %f   PSNR_noisy: %f   PSRN_gt: %f PSNR_gt_sm: %f\\n' % \n",
    "               (i, total_loss.item(), psrn_noisy, psrn_gt, psrn_gt_sm))\n",
    "    # print(log_message, '\\r', end='')\n",
    "    log_file.write(log_message)\n",
    "    if  PLOT and i % show_every == 0:\n",
    "        out_np = torch_to_np(out)\n",
    "        # print(out)\n",
    "        # plot_image_grid([np.clip(out_np, 0, 1), \n",
    "        #                  np.clip(torch_to_np(out_avg), 0, 1)], factor=figsize, nrow=1, file_name=f\"./output/denoise/denoise_{i:4d}.jpg\")\n",
    "        \n",
    "    # Backtracking\n",
    "    if i % show_every:\n",
    "        if psrn_noisy - psrn_noisy_last < -5: \n",
    "            print('Falling back to previous checkpoint.')\n",
    "\n",
    "            for new_param, net_param in zip(last_net, net.parameters()):\n",
    "                net_param.data.copy_(new_param.cuda())\n",
    "\n",
    "            return total_loss*0\n",
    "        else:\n",
    "            last_net = [x.detach().cpu() for x in net.parameters()]\n",
    "            psrn_noisy_last = psrn_noisy\n",
    "            \n",
    "    i += 1\n",
    "\n",
    "    return total_loss\n",
    "\n",
    "p = get_params('net', net, net_input)\n",
    "optimize(OPTIMIZER, p, closure, LR, num_iter)"
   ]
  },
  {
   "cell_type": "code",
   "execution_count": null,
   "metadata": {},
   "outputs": [],
   "source": [
    "out_np = torch_to_np(net(net_input))\n",
    "q = plot_image_grid([np.clip(out_np, 0, 1), img_np], factor=13,  file_name=f\"./output/denoise/denoise_final.jpg\");"
   ]
  }
 ],
 "metadata": {
  "kernelspec": {
   "display_name": "Python 3",
   "language": "python",
   "name": "python3"
  },
  "language_info": {
   "codemirror_mode": {
    "name": "ipython",
    "version": 3
   },
   "file_extension": ".py",
   "mimetype": "text/x-python",
   "name": "python",
   "nbconvert_exporter": "python",
   "pygments_lexer": "ipython3",
   "version": "3.10.15"
  }
 },
 "nbformat": 4,
 "nbformat_minor": 2
}
